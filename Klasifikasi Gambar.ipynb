{
 "cells": [
  {
   "cell_type": "markdown",
   "metadata": {
    "id": "2rJsQQK-1PLI"
   },
   "source": [
    "\n",
    "*   Nama : Dimas Wisnu Saputro\n",
    "*   Email : dimaswisnu250@gmail.com\n",
    "*   Kota : Bandung\n"
   ]
  },
  {
   "cell_type": "markdown",
   "metadata": {
    "id": "CuaCVAri1eyP"
   },
   "source": [
    "# Sumbission Dicoding | Proyek akhir | Klasifikasi Gambar\n",
    "\n",
    "**1.   Langkah pertama mengimport library dan menyiapkan data set**"
   ]
  },
  {
   "cell_type": "code",
   "execution_count": 1,
   "metadata": {
    "executionInfo": {
     "elapsed": 2922,
     "status": "ok",
     "timestamp": 1622440898416,
     "user": {
      "displayName": "1A - Dimas Wisnu Saputro",
      "photoUrl": "https://lh3.googleusercontent.com/a-/AOh14GgtelcT-qlyge6nczkb6IMbb59ephCUIsOjBV6a3g=s64",
      "userId": "15724379525051383300"
     },
     "user_tz": -420
    },
    "id": "oEmVRrep1Ja-"
   },
   "outputs": [],
   "source": [
    "import tensorflow as tf #Memanggil libary tensor flow\n",
    "from tensorflow.keras.preprocessing.image import ImageDataGenerator #Menghasilkan kumpulan data gambar tensor dengan augmentasi data dalam real-time.\n",
    "from tensorflow.keras.optimizers import RMSprop #Memanggil Algoritma RMSprop untuk pengoptimalan\n",
    "from sklearn.model_selection import train_test_split #Memecah data training dan data testing\n",
    "import zipfile #Mengkompres dan mengekstrak file zip pada python\n",
    "import os #Library yang menyediakan fungsi untuk berinteraksi dengan sistem operasi\n",
    "import shutil #Memanggil modoule Shell Utilities untuk melaksanakan operasi file dan direktori yang berbeda"
   ]
  },
  {
   "cell_type": "code",
   "execution_count": 2,
   "metadata": {
    "colab": {
     "base_uri": "https://localhost:8080/"
    },
    "executionInfo": {
     "elapsed": 260075,
     "status": "ok",
     "timestamp": 1622441158452,
     "user": {
      "displayName": "1A - Dimas Wisnu Saputro",
      "photoUrl": "https://lh3.googleusercontent.com/a-/AOh14GgtelcT-qlyge6nczkb6IMbb59ephCUIsOjBV6a3g=s64",
      "userId": "15724379525051383300"
     },
     "user_tz": -420
    },
    "id": "Bbw0gT--1lPx",
    "outputId": "180e31fb-2b26-43bc-b8ba-2e67671a9659"
   },
   "outputs": [
    {
     "name": "stdout",
     "output_type": "stream",
     "text": [
      "--2021-05-31 06:01:38--  https://dicodingacademy.blob.core.windows.net/picodiploma/ml_pemula_academy/rockpaperscissors.zip\n",
      "Resolving dicodingacademy.blob.core.windows.net (dicodingacademy.blob.core.windows.net)... 52.239.197.36\n",
      "Connecting to dicodingacademy.blob.core.windows.net (dicodingacademy.blob.core.windows.net)|52.239.197.36|:443... connected.\n",
      "HTTP request sent, awaiting response... 200 OK\n",
      "Length: 322873683 (308M) [application/zip]\n",
      "Saving to: ‘/tmp/rockpaperscissors.zip’\n",
      "\n",
      "/tmp/rockpapersciss 100%[===================>] 307.92M  1.01MB/s    in 4m 19s  \n",
      "\n",
      "2021-05-31 06:05:57 (1.19 MB/s) - ‘/tmp/rockpaperscissors.zip’ saved [322873683/322873683]\n",
      "\n"
     ]
    }
   ],
   "source": [
    "!wget --no-check-certificate \\\n",
    "https://dicodingacademy.blob.core.windows.net/picodiploma/ml_pemula_academy/rockpaperscissors.zip \\\n",
    "-O /tmp/rockpaperscissors.zip"
   ]
  },
  {
   "cell_type": "markdown",
   "metadata": {
    "id": "f9-x_Rpb1pWY"
   },
   "source": [
    "**2.   Mengekstrak dataset dan disimpan pada '/tmp/'**\n"
   ]
  },
  {
   "cell_type": "code",
   "execution_count": 3,
   "metadata": {
    "executionInfo": {
     "elapsed": 5385,
     "status": "ok",
     "timestamp": 1622441170255,
     "user": {
      "displayName": "1A - Dimas Wisnu Saputro",
      "photoUrl": "https://lh3.googleusercontent.com/a-/AOh14GgtelcT-qlyge6nczkb6IMbb59ephCUIsOjBV6a3g=s64",
      "userId": "15724379525051383300"
     },
     "user_tz": -420
    },
    "id": "d03Y5P_91taw"
   },
   "outputs": [],
   "source": [
    "#Membaca file 'rockpaperscissors.zip' dan menyimpan nya di variabel zip_ref\n",
    "with zipfile.ZipFile(\"/tmp/rockpaperscissors.zip\",\"r\") as zip_ref: \n",
    "    zip_ref.extractall(\"/tmp/\")"
   ]
  },
  {
   "cell_type": "markdown",
   "metadata": {
    "id": "rAKcZdkm12cA"
   },
   "source": [
    "**3. Membuat class Callback untuk menghentikan training setelah akurasi terpenuhi dan mencegah overfitting**"
   ]
  },
  {
   "cell_type": "code",
   "execution_count": 4,
   "metadata": {
    "executionInfo": {
     "elapsed": 25,
     "status": "ok",
     "timestamp": 1622441170262,
     "user": {
      "displayName": "1A - Dimas Wisnu Saputro",
      "photoUrl": "https://lh3.googleusercontent.com/a-/AOh14GgtelcT-qlyge6nczkb6IMbb59ephCUIsOjBV6a3g=s64",
      "userId": "15724379525051383300"
     },
     "user_tz": -420
    },
    "id": "qBNYquNs1755"
   },
   "outputs": [],
   "source": [
    "class myCallback(tf.keras.callbacks.Callback):\n",
    "  def on_epoch_end(self, epoch, logs={}):\n",
    "    if(logs.get('accuracy') > 0.96):\n",
    "      print(\"\\nAkurasi di atas 96%, hentikan training!\")\n",
    "      self.model.stop_training = True\n",
    "\n",
    "callbacks = myCallback()"
   ]
  },
  {
   "cell_type": "markdown",
   "metadata": {
    "id": "UBw2pb8519gx"
   },
   "source": [
    "**4.   Membuat direktori dan split dataset**"
   ]
  },
  {
   "cell_type": "code",
   "execution_count": 5,
   "metadata": {
    "executionInfo": {
     "elapsed": 906,
     "status": "ok",
     "timestamp": 1622441174483,
     "user": {
      "displayName": "1A - Dimas Wisnu Saputro",
      "photoUrl": "https://lh3.googleusercontent.com/a-/AOh14GgtelcT-qlyge6nczkb6IMbb59ephCUIsOjBV6a3g=s64",
      "userId": "15724379525051383300"
     },
     "user_tz": -420
    },
    "id": "eJOpFT8V2Abk"
   },
   "outputs": [],
   "source": [
    "base_directory = '/tmp/rockpaperscissors' #Mengisi variabel base_diretory dengan direktori '/tmp/rockpaperscissors'\n",
    "train_directory = os.path.join(base_directory,'train') #Mengisi variabel train_directory dengan direktori '/tmp/rockpaperscissors/train'\n",
    "validation_directory = os.path.join(base_directory, 'val') #Mengisi variabel validation_directory dengan direktori '/tmp/rockpaperscissors/val'\n",
    "roc_directory = os.path.join(base_directory,'rock') #Mengisi variabel roc_directory dengan direktori '/tmp/rockpaperscissors/rock'\n",
    "pap_directory = os.path.join(base_directory, 'paper') #Mengisi variabel pap_directory dengan direktori '/tmp/rockpaperscissors/paper'\n",
    "sci_directory = os.path.join(base_directory, 'scissors') #Mengisi variabel sci_directory  dengan direktori '/tmp/rockpaperscissors/scissors'\n",
    "#os.path.join berfungsi menggabungkan satu atau lebih path. Nilai yang dikembalikan adalah rangkaian jalur dan setiap anggota * jalur dengan tepat satu pemisah direktori mengikuti setiap bagian yang tidak kosong kecuali bagian terakhir, yang berarti bahwa hasil hanya akan diakhiri dengan pemisah jika bagian terakhir kosong. Jika sebuah komponen adalah jalur absolut, semua komponen sebelumnya akan dibuang dan penggabungan dilanjutkan dari komponen jalur absolut."
   ]
  },
  {
   "cell_type": "code",
   "execution_count": 6,
   "metadata": {
    "executionInfo": {
     "elapsed": 10,
     "status": "ok",
     "timestamp": 1622441177337,
     "user": {
      "displayName": "1A - Dimas Wisnu Saputro",
      "photoUrl": "https://lh3.googleusercontent.com/a-/AOh14GgtelcT-qlyge6nczkb6IMbb59ephCUIsOjBV6a3g=s64",
      "userId": "15724379525051383300"
     },
     "user_tz": -420
    },
    "id": "myjoGgTl2SLx"
   },
   "outputs": [],
   "source": [
    "#Memeriksa apakah direktori yang akan dibuat sudah ada\n",
    "os.mkdir(train_directory) #os.mkdir() method di Python digunakan untuk membuat direktori bernama path dengan mode numerik yang ditentukan. Method ini memunculkan FileExistsError jika direktori yang akan dibuat sudah ada.\n",
    "os.mkdir(validation_directory) #os.mkdir() method di Python digunakan untuk membuat direktori bernama path dengan mode numerik yang ditentukan."
   ]
  },
  {
   "cell_type": "code",
   "execution_count": 7,
   "metadata": {
    "executionInfo": {
     "elapsed": 3,
     "status": "ok",
     "timestamp": 1622441177696,
     "user": {
      "displayName": "1A - Dimas Wisnu Saputro",
      "photoUrl": "https://lh3.googleusercontent.com/a-/AOh14GgtelcT-qlyge6nczkb6IMbb59ephCUIsOjBV6a3g=s64",
      "userId": "15724379525051383300"
     },
     "user_tz": -420
    },
    "id": "UtxKqOYj2TWP"
   },
   "outputs": [],
   "source": [
    "train_roc = os.path.join(train_directory, 'rock') #Mengisi variabel train_roc dengan direktori '/tmp/rockpaperscissors/train/rock'\n",
    "train_pap = os.path.join(train_directory, 'paper') #Mengisi variabel train_pap dengan direktori '/tmp/rockpaperscissors/train/paper'\n",
    "train_sci = os.path.join(train_directory, 'scissors') #Mengisi variabel train_roc dengan direktori '/tmp/rockpaperscissors/train/scissors'\n",
    "val_roc = os.path.join(validation_directory, 'rock') #Mengisi variabel val_roc dengan direktori '/tmp/rockpaperscissors/val/rock'\n",
    "val_pap = os.path.join(validation_directory, 'paper') #Mengisi variabel val_pap dengan direktori '/tmp/rockpaperscissors/val/paper'\n",
    "val_sci = os.path.join(validation_directory, 'scissors') #Mengisi variabel val_sci dengan direktori '/tmp/rockpaperscissors/val/scissors'"
   ]
  },
  {
   "cell_type": "code",
   "execution_count": 8,
   "metadata": {
    "executionInfo": {
     "elapsed": 11,
     "status": "ok",
     "timestamp": 1622441179162,
     "user": {
      "displayName": "1A - Dimas Wisnu Saputro",
      "photoUrl": "https://lh3.googleusercontent.com/a-/AOh14GgtelcT-qlyge6nczkb6IMbb59ephCUIsOjBV6a3g=s64",
      "userId": "15724379525051383300"
     },
     "user_tz": -420
    },
    "id": "154w25Eu2XtG"
   },
   "outputs": [],
   "source": [
    "#Memeriksa apakah direktori yang akan dibuat sudah ada\n",
    "os.mkdir(train_roc)\n",
    "os.mkdir(train_pap)\n",
    "os.mkdir(train_sci)\n",
    "os.mkdir(val_roc)\n",
    "os.mkdir(val_pap)\n",
    "os.mkdir(val_sci)\n",
    "#os.mkdir() method di Python digunakan untuk membuat direktori bernama path dengan mode numerik yang ditentukan. \n",
    "#Method ini memunculkan FileExistsError jika direktori yang akan dibuat sudah ada."
   ]
  },
  {
   "cell_type": "markdown",
   "metadata": {
    "id": "LCgh63O72ccu"
   },
   "source": [
    "**5. Mengevaluasi performa model machine learning menggunakan Train & Test split**"
   ]
  },
  {
   "cell_type": "code",
   "execution_count": 9,
   "metadata": {
    "colab": {
     "base_uri": "https://localhost:8080/",
     "height": 88
    },
    "executionInfo": {
     "elapsed": 44,
     "status": "ok",
     "timestamp": 1622441181763,
     "user": {
      "displayName": "1A - Dimas Wisnu Saputro",
      "photoUrl": "https://lh3.googleusercontent.com/a-/AOh14GgtelcT-qlyge6nczkb6IMbb59ephCUIsOjBV6a3g=s64",
      "userId": "15724379525051383300"
     },
     "user_tz": -420
    },
    "id": "GG5ajyZM2Zoz",
    "outputId": "8461a2b4-d20c-454a-a517-db3bbbb809c3"
   },
   "outputs": [
    {
     "data": {
      "application/vnd.google.colaboratory.intrinsic+json": {
       "type": "string"
      },
      "text/plain": [
       "\"\\nMethod Python listdir () mengembalikan daftar yang berisi nama-nama entri dalam direktori yang diberikan oleh jalur. \\nDaftar ini dalam urutan yang sewenang-wenang. Ini tidak termasuk entri khusus '.' dan '..' bahkan jika mereka ada di direktori.\\n\\ntrain_test_split adalah fungsi dalam pemilihan model Sklearn untuk membagi larik data menjadi dua subset: \\nuntuk data pelatihan dan untuk data pengujian. Dengan fungsi ini, tidak perlu membagi dataset secara manual.\\nSecara default, Sklearn train_test_split akan membuat partisi acak untuk dua subset.\\n\""
      ]
     },
     "execution_count": 9,
     "metadata": {
      "tags": []
     },
     "output_type": "execute_result"
    }
   ],
   "source": [
    "#Memecah setiap direktori menjadi data train dan data validasi(validation 40% of dataset)\n",
    "train_roc_dir, val_roc_dir = train_test_split(os.listdir(roc_directory), test_size = 0.40)\n",
    "train_pap_dir, val_pap_dir = train_test_split(os.listdir(pap_directory), test_size = 0.40)\n",
    "train_sci_dir, val_sci_dir = train_test_split(os.listdir(sci_directory), test_size = 0.40)\n",
    "\n",
    "\"\"\"\n",
    "Method Python listdir () mengembalikan daftar yang berisi nama-nama entri dalam direktori yang diberikan oleh jalur. \n",
    "Daftar ini dalam urutan yang sewenang-wenang. Ini tidak termasuk entri khusus '.' dan '..' bahkan jika mereka ada di direktori.\n",
    "\n",
    "train_test_split adalah fungsi dalam pemilihan model Sklearn untuk membagi larik data menjadi dua subset: \n",
    "untuk data pelatihan dan untuk data pengujian. Dengan fungsi ini, tidak perlu membagi dataset secara manual.\n",
    "Secara default, Sklearn train_test_split akan membuat partisi acak untuk dua subset.\n",
    "\"\"\""
   ]
  },
  {
   "cell_type": "code",
   "execution_count": 10,
   "metadata": {
    "executionInfo": {
     "elapsed": 657,
     "status": "ok",
     "timestamp": 1622441186792,
     "user": {
      "displayName": "1A - Dimas Wisnu Saputro",
      "photoUrl": "https://lh3.googleusercontent.com/a-/AOh14GgtelcT-qlyge6nczkb6IMbb59ephCUIsOjBV6a3g=s64",
      "userId": "15724379525051383300"
     },
     "user_tz": -420
    },
    "id": "4r0ymJZP2fxM"
   },
   "outputs": [],
   "source": [
    "for file in train_roc_dir:\n",
    "  shutil.copy(os.path.join(roc_directory, file), os.path.join(train_roc, file))\n",
    "for file in train_pap_dir:\n",
    "  shutil.copy(os.path.join(pap_directory,file), os.path.join(train_pap,file))\n",
    "for file in train_sci_dir:\n",
    "  shutil.copy(os.path.join(sci_directory,file), os.path.join(train_sci,file))\n",
    "for file in val_roc_dir:\n",
    "  shutil.copy(os.path.join(roc_directory, file), os.path.join(val_roc,file))\n",
    "for file in val_pap_dir:\n",
    "  shutil.copy(os.path.join(pap_directory,file), os.path.join(val_pap,file))\n",
    "for file in val_sci_dir:\n",
    "  shutil.copy(os.path.join(sci_directory,file), os.path.join(val_sci,file))\n",
    "\n",
    "#Method shutil.copy(source,destination) digunakan untuk menyalin konten file sumber ke file atau direktori tujuan."
   ]
  },
  {
   "cell_type": "code",
   "execution_count": 11,
   "metadata": {
    "colab": {
     "base_uri": "https://localhost:8080/",
     "height": 71
    },
    "executionInfo": {
     "elapsed": 27,
     "status": "ok",
     "timestamp": 1622441187922,
     "user": {
      "displayName": "1A - Dimas Wisnu Saputro",
      "photoUrl": "https://lh3.googleusercontent.com/a-/AOh14GgtelcT-qlyge6nczkb6IMbb59ephCUIsOjBV6a3g=s64",
      "userId": "15724379525051383300"
     },
     "user_tz": -420
    },
    "id": "JQ4tyVOQ4C-5",
    "outputId": "e6277b6a-45ef-4469-d87e-0084b097ed28"
   },
   "outputs": [
    {
     "data": {
      "application/vnd.google.colaboratory.intrinsic+json": {
       "type": "string"
      },
      "text/plain": [
       "'\\nCara kerja imageDataGenerator()\\n-Menerima sekumpulan gambar yang digunakan untuk pelatihan.\\n-Mengambil kelompok ini dan menerapkan serangkaian transformasi acak ke setiap gambar dalam kelompok (termasuk rotasi acak, pengubahan ukuran, pemotongan, dll.).\\n-Mengganti kelompok awal dengan kelompok baru yang diubah secara acak.\\n-Pelatihan CNN pada batch yang diubah secara acak ini (yaitu, data asli itu sendiri tidak digunakan untuk pelatihan).\\n'"
      ]
     },
     "execution_count": 11,
     "metadata": {
      "tags": []
     },
     "output_type": "execute_result"
    }
   ],
   "source": [
    "train_datagen = ImageDataGenerator(\n",
    "    rescale = 1./255,\n",
    "    rotation_range = 20,\n",
    "    horizontal_flip = True,\n",
    "    shear_range = 0.2,\n",
    "    fill_mode = 'nearest',\n",
    ")\n",
    "test_datagen = ImageDataGenerator(\n",
    "    rescale = 1./225,\n",
    "    rotation_range = 20,\n",
    "    horizontal_flip = True,\n",
    "    vertical_flip = True,\n",
    "    shear_range = 0.2,\n",
    "    fill_mode = 'nearest'\n",
    ")\n",
    "\n",
    "\"\"\"\n",
    "Cara kerja imageDataGenerator()\n",
    "-Menerima sekumpulan gambar yang digunakan untuk pelatihan.\n",
    "-Mengambil kelompok ini dan menerapkan serangkaian transformasi acak ke setiap gambar dalam kelompok (termasuk rotasi acak, pengubahan ukuran, pemotongan, dll.).\n",
    "-Mengganti kelompok awal dengan kelompok baru yang diubah secara acak.\n",
    "-Pelatihan CNN pada batch yang diubah secara acak ini (yaitu, data asli itu sendiri tidak digunakan untuk pelatihan).\n",
    "\"\"\""
   ]
  },
  {
   "cell_type": "code",
   "execution_count": 12,
   "metadata": {
    "colab": {
     "base_uri": "https://localhost:8080/"
    },
    "executionInfo": {
     "elapsed": 3157,
     "status": "ok",
     "timestamp": 1622441197048,
     "user": {
      "displayName": "1A - Dimas Wisnu Saputro",
      "photoUrl": "https://lh3.googleusercontent.com/a-/AOh14GgtelcT-qlyge6nczkb6IMbb59ephCUIsOjBV6a3g=s64",
      "userId": "15724379525051383300"
     },
     "user_tz": -420
    },
    "id": "ebmrCS9l4FMi",
    "outputId": "e16033c8-2911-4585-f250-88efa435f8cb"
   },
   "outputs": [
    {
     "name": "stdout",
     "output_type": "stream",
     "text": [
      "Found 1312 images belonging to 3 classes.\n",
      "Found 876 images belonging to 3 classes.\n"
     ]
    }
   ],
   "source": [
    "#flow_from_directory berfungsi untuk Mengambil jalur ke direktori & menghasilkan kumpulan data yang ditambah\n",
    "\n",
    "train_generator = train_datagen.flow_from_directory(\n",
    "    train_directory,\n",
    "    target_size=(150,150),\n",
    "    batch_size= 32,\n",
    "    class_mode='categorical'\n",
    ")\n",
    "\n",
    "validation_generator = test_datagen.flow_from_directory(\n",
    "    validation_directory,\n",
    "    target_size = (150,150),\n",
    "    batch_size = 32,\n",
    "    class_mode = 'categorical'\n",
    ")"
   ]
  },
  {
   "cell_type": "code",
   "execution_count": 13,
   "metadata": {
    "colab": {
     "base_uri": "https://localhost:8080/"
    },
    "executionInfo": {
     "elapsed": 843,
     "status": "ok",
     "timestamp": 1622441200335,
     "user": {
      "displayName": "1A - Dimas Wisnu Saputro",
      "photoUrl": "https://lh3.googleusercontent.com/a-/AOh14GgtelcT-qlyge6nczkb6IMbb59ephCUIsOjBV6a3g=s64",
      "userId": "15724379525051383300"
     },
     "user_tz": -420
    },
    "id": "zLmrSdzS4JYy",
    "outputId": "7c14e7c9-fa27-48e3-f7e8-29f824783489"
   },
   "outputs": [
    {
     "name": "stdout",
     "output_type": "stream",
     "text": [
      "Model: \"sequential\"\n",
      "_________________________________________________________________\n",
      "Layer (type)                 Output Shape              Param #   \n",
      "=================================================================\n",
      "conv2d (Conv2D)              (None, 148, 148, 32)      896       \n",
      "_________________________________________________________________\n",
      "max_pooling2d (MaxPooling2D) (None, 74, 74, 32)        0         \n",
      "_________________________________________________________________\n",
      "conv2d_1 (Conv2D)            (None, 72, 72, 64)        18496     \n",
      "_________________________________________________________________\n",
      "max_pooling2d_1 (MaxPooling2 (None, 36, 36, 64)        0         \n",
      "_________________________________________________________________\n",
      "conv2d_2 (Conv2D)            (None, 34, 34, 128)       73856     \n",
      "_________________________________________________________________\n",
      "max_pooling2d_2 (MaxPooling2 (None, 17, 17, 128)       0         \n",
      "_________________________________________________________________\n",
      "flatten (Flatten)            (None, 36992)             0         \n",
      "_________________________________________________________________\n",
      "dropout (Dropout)            (None, 36992)             0         \n",
      "_________________________________________________________________\n",
      "dense (Dense)                (None, 512)               18940416  \n",
      "_________________________________________________________________\n",
      "dense_1 (Dense)              (None, 3)                 1539      \n",
      "=================================================================\n",
      "Total params: 19,035,203\n",
      "Trainable params: 19,035,203\n",
      "Non-trainable params: 0\n",
      "_________________________________________________________________\n"
     ]
    }
   ],
   "source": [
    "model = tf.keras.models.Sequential([\n",
    "  tf.keras.layers.Conv2D(32, (3,3), activation = 'relu', input_shape= (150,150,3)),\n",
    "  tf.keras.layers.MaxPooling2D(2,2),\n",
    "  tf.keras.layers.Conv2D(64,(3,3), activation= 'relu'),\n",
    "  tf.keras.layers.MaxPooling2D(2,2),\n",
    "  tf.keras.layers.Conv2D(128,(3,3), activation= 'relu'),\n",
    "  tf.keras.layers.MaxPooling2D(2,2),\n",
    "  tf.keras.layers.Flatten(),\n",
    "  tf.keras.layers.Dropout(0.5),\n",
    "  tf.keras.layers.Dense(512, activation= 'relu'),\n",
    "  tf.keras.layers.Dense(3, activation= 'softmax')\n",
    "])\n",
    "#Sequential mengelompokkan tumpukan linier dari lapisan ke dalam tf.keras.Model\n",
    "model.summary() #Menampilkan kesimpulan model\n",
    "model.compile(loss='categorical_crossentropy',\n",
    "              optimizer=tf.optimizers.Adam(),\n",
    "              metrics=['accuracy'])"
   ]
  },
  {
   "cell_type": "code",
   "execution_count": 14,
   "metadata": {
    "colab": {
     "base_uri": "https://localhost:8080/"
    },
    "executionInfo": {
     "elapsed": 786367,
     "status": "ok",
     "timestamp": 1622441989549,
     "user": {
      "displayName": "1A - Dimas Wisnu Saputro",
      "photoUrl": "https://lh3.googleusercontent.com/a-/AOh14GgtelcT-qlyge6nczkb6IMbb59ephCUIsOjBV6a3g=s64",
      "userId": "15724379525051383300"
     },
     "user_tz": -420
    },
    "id": "xuqcJwri4M4A",
    "outputId": "21316d1c-5cb4-4c09-e19f-e29b1896a488"
   },
   "outputs": [
    {
     "name": "stdout",
     "output_type": "stream",
     "text": [
      "Epoch 1/20\n",
      "41/41 - 79s - loss: 1.1947 - accuracy: 0.4535 - val_loss: 0.8454 - val_accuracy: 0.6007\n",
      "Epoch 2/20\n",
      "41/41 - 78s - loss: 0.5702 - accuracy: 0.7835 - val_loss: 0.3951 - val_accuracy: 0.8611\n",
      "Epoch 3/20\n",
      "41/41 - 78s - loss: 0.3274 - accuracy: 0.8773 - val_loss: 0.4272 - val_accuracy: 0.8565\n",
      "Epoch 4/20\n",
      "41/41 - 77s - loss: 0.2306 - accuracy: 0.9192 - val_loss: 0.2465 - val_accuracy: 0.9086\n",
      "Epoch 5/20\n",
      "41/41 - 77s - loss: 0.1920 - accuracy: 0.9360 - val_loss: 0.2287 - val_accuracy: 0.9248\n",
      "Epoch 6/20\n",
      "41/41 - 77s - loss: 0.1573 - accuracy: 0.9405 - val_loss: 0.2230 - val_accuracy: 0.9282\n",
      "Epoch 7/20\n",
      "41/41 - 77s - loss: 0.1550 - accuracy: 0.9505 - val_loss: 0.2291 - val_accuracy: 0.9259\n",
      "Epoch 8/20\n",
      "41/41 - 78s - loss: 0.1424 - accuracy: 0.9550 - val_loss: 0.1577 - val_accuracy: 0.9468\n",
      "Epoch 9/20\n",
      "41/41 - 77s - loss: 0.1164 - accuracy: 0.9566 - val_loss: 0.1765 - val_accuracy: 0.9549\n",
      "Epoch 10/20\n",
      "41/41 - 77s - loss: 0.1111 - accuracy: 0.9619 - val_loss: 0.2650 - val_accuracy: 0.8993\n",
      "\n",
      "Akurasi di atas 96%, hentikan training!\n"
     ]
    }
   ],
   "source": [
    "history = model.fit(\n",
    "    train_generator,\n",
    "    steps_per_epoch = 41, # 1312 images = batch_size * steps\n",
    "    epochs = 20,\n",
    "    validation_data = validation_generator,\n",
    "    validation_steps = 27, # 876 images = batch_size * steps\n",
    "    verbose =2,\n",
    "      callbacks=[callbacks]\n",
    ")\n",
    "#Untuk memulai proses training digunakan fungsi fit()"
   ]
  },
  {
   "cell_type": "markdown",
   "metadata": {
    "id": "9_HssdXA4Ptx"
   },
   "source": [
    "# Visualisasi loss train & validation"
   ]
  },
  {
   "cell_type": "code",
   "execution_count": 15,
   "metadata": {
    "colab": {
     "base_uri": "https://localhost:8080/",
     "height": 294
    },
    "executionInfo": {
     "elapsed": 491,
     "status": "ok",
     "timestamp": 1622442049323,
     "user": {
      "displayName": "1A - Dimas Wisnu Saputro",
      "photoUrl": "https://lh3.googleusercontent.com/a-/AOh14GgtelcT-qlyge6nczkb6IMbb59ephCUIsOjBV6a3g=s64",
      "userId": "15724379525051383300"
     },
     "user_tz": -420
    },
    "id": "gWEyb8ej4Qdp",
    "outputId": "7842c04d-59a2-4c83-80c5-c570434a6218"
   },
   "outputs": [
    {
     "data": {
      "image/png": "[encoded data removed]",
      "text/plain": [
       "<Figure size 432x288 with 1 Axes>"
      ]
     },
     "metadata": {
      "needs_background": "light",
      "tags": []
     },
     "output_type": "display_data"
    }
   ],
   "source": [
    "from matplotlib import pyplot as plt #Memanggil pyplot dari library matplotlib untuk membuat grafik plot\n",
    "plt.plot(history.history['loss'], label='Training Loss')\n",
    "plt.plot(history.history['val_loss'], label='Validation Loss')\n",
    "plt.title('Loss Plot')\n",
    "plt.ylabel('Value')\n",
    "plt.xlabel('Epoch')\n",
    "plt.legend(loc=\"upper right\")\n",
    "plt.show()"
   ]
  },
  {
   "cell_type": "markdown",
   "metadata": {
    "id": "RQnlmiNb4VF6"
   },
   "source": [
    "#Visualisasi accuracy train & validation"
   ]
  },
  {
   "cell_type": "code",
   "execution_count": 16,
   "metadata": {
    "colab": {
     "base_uri": "https://localhost:8080/",
     "height": 294
    },
    "executionInfo": {
     "elapsed": 9,
     "status": "ok",
     "timestamp": 1622442051377,
     "user": {
      "displayName": "1A - Dimas Wisnu Saputro",
      "photoUrl": "https://lh3.googleusercontent.com/a-/AOh14GgtelcT-qlyge6nczkb6IMbb59ephCUIsOjBV6a3g=s64",
      "userId": "15724379525051383300"
     },
     "user_tz": -420
    },
    "id": "NS_cL_ub4SaV",
    "outputId": "119e8522-8296-47b5-92ce-3b3d11855b86"
   },
   "outputs": [
    {
     "data": {
      "image/png": "[encoded data removed]",
      "text/plain": [
       "<Figure size 432x288 with 1 Axes>"
      ]
     },
     "metadata": {
      "needs_background": "light",
      "tags": []
     },
     "output_type": "display_data"
    }
   ],
   "source": [
    "plt.plot(history.history['accuracy'], label='Training Accuracy')\n",
    "plt.plot(history.history['val_accuracy'], label='Validation Accuracy')\n",
    "plt.title('Accuracy Plot')\n",
    "plt.ylabel('Value')\n",
    "plt.xlabel('Epoch')\n",
    "plt.legend(loc=\"lower right\")\n",
    "plt.show()"
   ]
  },
  {
   "cell_type": "markdown",
   "metadata": {
    "id": "uh5waf_o4aNC"
   },
   "source": [
    "#Main Driver"
   ]
  },
  {
   "cell_type": "code",
   "execution_count": 18,
   "metadata": {
    "colab": {
     "base_uri": "https://localhost:8080/",
     "height": 360,
     "resources": {
      "http://localhost:8080/nbextensions/google.colab/files.js": {
       "data": "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",
       "headers": [
        [
         "content-type",
         "application/javascript"
        ]
       ],
       "ok": true,
       "status": 200,
       "status_text": ""
      }
     }
    },
    "executionInfo": {
     "elapsed": 16796,
     "status": "ok",
     "timestamp": 1622442081670,
     "user": {
      "displayName": "1A - Dimas Wisnu Saputro",
      "photoUrl": "https://lh3.googleusercontent.com/a-/AOh14GgtelcT-qlyge6nczkb6IMbb59ephCUIsOjBV6a3g=s64",
      "userId": "15724379525051383300"
     },
     "user_tz": -420
    },
    "id": "BaX5dVkJ4bbZ",
    "outputId": "37375024-d0fa-4f43-8a75-9e52e120f017"
   },
   "outputs": [
    {
     "data": {
      "text/html": [
       "\n",
       "     <input type=\"file\" id=\"files-7bbefac5-7d3f-418b-b60a-6a86d132b87c\" name=\"files[]\" multiple disabled\n",
       "        style=\"border:none\" />\n",
       "     <output id=\"result-7bbefac5-7d3f-418b-b60a-6a86d132b87c\">\n",
       "      Upload widget is only available when the cell has been executed in the\n",
       "      current browser session. Please rerun this cell to enable.\n",
       "      </output>\n",
       "      <script src=\"/nbextensions/google.colab/files.js\"></script> "
      ],
      "text/plain": [
       "<IPython.core.display.HTML object>"
      ]
     },
     "metadata": {
      "tags": []
     },
     "output_type": "display_data"
    },
    {
     "name": "stdout",
     "output_type": "stream",
     "text": [
      "Saving Batu.png to Batu.png\n",
      "Batu.png\n",
      "rock\n"
     ]
    },
    {
     "data": {
      "image/png": "[encoded data removed]",
      "text/plain": [
       "<Figure size 432x288 with 1 Axes>"
      ]
     },
     "metadata": {
      "needs_background": "light",
      "tags": []
     },
     "output_type": "display_data"
    }
   ],
   "source": [
    "import numpy as np #Library untuk kebutuhan matematika\n",
    "from google.colab import files #Meminta file\n",
    "from keras.preprocessing import image #Memproses gambar\n",
    "import matplotlib.pyplot as plt #Menampilkan grafik plot\n",
    "import matplotlib.image as mpimg #Menampilkan gambar\n",
    "%matplotlib inline\n",
    "\n",
    "uploaded = files.upload()\n",
    "\n",
    "for fn in uploaded.keys():\n",
    "\n",
    "  path = fn \n",
    "  img = image.load_img(path, target_size =(150,150))\n",
    "  imgplot = plt.imshow(img)\n",
    "  x = image.img_to_array(img)\n",
    "  x = np.expand_dims(x, axis=0)\n",
    "\n",
    "  images = np.vstack([x])\n",
    "  classes = model.predict(images, batch_size=10)\n",
    "\n",
    "  print(fn)\n",
    "  if classes[0,0]!=0:\n",
    "    print('paper')\n",
    "  elif classes[0,1]!=0:\n",
    "    print('rock')\n",
    "  else:\n",
    "    print('scissors')"
   ]
  }
 ],
 "metadata": {
  "colab": {
   "authorship_tag": "ABX9TyM3VNd6ZZZulrgRQArcc4R6",
   "name": "Dimas Wisnu Saputro.ipynb",
   "provenance": []
  },
  "kernelspec": {
   "display_name": "Python 3",
   "language": "python",
   "name": "python3"
  },
  "language_info": {
   "codemirror_mode": {
    "name": "ipython",
    "version": 3
   },
   "file_extension": ".py",
   "mimetype": "text/x-python",
   "name": "python",
   "nbconvert_exporter": "python",
   "pygments_lexer": "ipython3",
   "version": "3.8.8"
  }
 },
 "nbformat": 4,
 "nbformat_minor": 1
}
